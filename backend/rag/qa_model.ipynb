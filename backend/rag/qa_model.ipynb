{
 "cells": [
  {
   "cell_type": "code",
   "execution_count": null,
   "metadata": {},
   "outputs": [],
   "source": [
    "!pip install transformers \n",
    "!pip install torch \n",
    "!pip install transformers[sentencepiece]"
   ]
  },
  {
   "cell_type": "code",
   "execution_count": null,
   "metadata": {},
   "outputs": [],
   "source": [
    "from transformers import pipeline\n",
    "pipeline = pipeline(task=\"question-answering\", model=\"namngo/videberta-xsmall-finetuned-squad\")"
   ]
  },
  {
   "cell_type": "code",
   "execution_count": null,
   "metadata": {},
   "outputs": [],
   "source": [
    "context = \"Điều 39.13.NĐ.55.3. Hình thức xử phạt, biện pháp khắc phục hậu quả [(Điều 3 Nghị định số 90/2017/NĐ-CP, có hiệu lực thi hành kể từ ngày 15/09/2017)] 1\\\\. Đối với mỗi hành vi vi phạm hành chính trong lĩnh vực thú y, tổ chức, cá nhân phải chịu một trong các hình thức xử phạt chính là cảnh cáo hoặc phạt tiền. 2\\\\. Tùy theo tính chất, mức độ vi phạm, tổ chức, cá nhân có hành vi vi phạm còn có thể bị áp dụng một hoặc nhiều hình thức xử phạt bổ sung sau đây: a) Tước quyền sử dụng giấy phép, chứng chỉ hành nghề có thời hạn gồm: Chứng chỉ hành nghề thú y; Giấy chứng nhận vệ sinh thú y hoặc Giấy chứng nhận cơ sở đủ điều kiện an toàn thực phẩm (sau đây gọi chung là Giấy chứng nhận vệ sinh thú y); Giấy phép nhập khẩu thuốc thú y; Giấy chứng nhận đủ điều kiện sản xuất thuốc thú y hoặc Giấy chứng nhận thực hành tốt sản xuất thuốc thú y GMP (sau đây gọi chung là Giấy chứng nhận GMP); Giấy chứng nhận đủ điều kiện nhập khẩu thuốc thú y; Giấy chứng nhận đủ điều kiện buôn bán thuốc thú y; b) Đình chỉ hoạt động có thời hạn; c) Tịch thu tang vật, phương tiện vi phạm hành chính trong lĩnh vực thú y. 3\\\\. Ngoài các biện pháp khắc phục hậu quả quy định tại các điểm a, b, c, d, đ, e, g, h và i khoản 1 Điều 28 của Luật xử lý vi phạm hành chính, Nghị định này quy định áp dụng các biện pháp khắc phục hậu quả sau: a) Buộc phải lấy mẫu, xét nghiệm bệnh động vật; b) Buộc thực hiện việc kiểm dịch lại động vật, sản phẩm động vật; c) Buộc thực hiện việc nhập khẩu động vật, sản phẩm động vật đúng cửa khẩu; d) Buộc tạm dừng giết mổ động vật; đ) Buộc giết mổ bắt buộc động vật; buộc xử lý nhiệt sản phẩm động vật; buộc phải kiểm tra vệ sinh thú y sản phẩm động vật; e) Buộc xử lý sơ chế, chế biến động vật, sản phẩm động vật; g) Buộc tái xuất động vật, sản phẩm động vật; h) Buộc xử lý vệ sinh thú y sản phẩm động vật; i) Buộc thu hồi, tái chế thuốc thú y không bảo đảm chất lượng theo tiêu chuẩn công bố áp dụng hoặc quy chuẩn kỹ thuật tương ứng; k) Buộc thu hồi, tiêu hủy thuốc thú y nguyên liệu làm thuốc thú y, nguyên liệu thuốc y tế, thuốc y tế; l) Buộc dán nhãn thuốc thú y theo đúng quy định.\"\n",
    "question = \"Quy định xử phạt vi phạm hành chính trong lĩnh vực thú y đối với cá nhân như thế nào ?\""
   ]
  },
  {
   "cell_type": "code",
   "execution_count": null,
   "metadata": {},
   "outputs": [],
   "source": [
    "output = pipeline(question=question, context=context)\n",
    "print(output[\"answer\"])"
   ]
  },
  {
   "cell_type": "markdown",
   "metadata": {},
   "source": [
    "Alternative way to use QA Model instead of using pipeline"
   ]
  },
  {
   "cell_type": "code",
   "execution_count": null,
   "metadata": {},
   "outputs": [],
   "source": [
    "import torch\n",
    "if torch.cuda.is_available():       \n",
    "    device = torch.device(\"cuda\")\n",
    "else:\n",
    "    device = torch.device(\"cpu\")\n",
    "    "
   ]
  },
  {
   "cell_type": "code",
   "execution_count": null,
   "metadata": {},
   "outputs": [],
   "source": [
    "from transformers import AutoTokenizer, AutoModelForQuestionAnswering\n",
    "\n",
    "tokenizer = AutoTokenizer.from_pretrained(\"namngo/videberta-xsmall-finetuned-squad\")\n",
    "model = AutoModelForQuestionAnswering.from_pretrained(\"namngo/videberta-xsmall-finetuned-squad\")\n",
    "\n",
    "\n",
    "model.to(device)"
   ]
  },
  {
   "cell_type": "code",
   "execution_count": null,
   "metadata": {},
   "outputs": [],
   "source": [
    "inputs = tokenizer(question, context, return_tensors=\"pt\").to(device)\n",
    "outputs = model(**inputs)"
   ]
  },
  {
   "cell_type": "code",
   "execution_count": null,
   "metadata": {},
   "outputs": [],
   "source": [
    "answer_start_index = outputs.start_logits.argmax()\n",
    "answer_end_index = outputs.end_logits.argmax()\n",
    "\n",
    "predict_answer_tokens = inputs.input_ids[0, answer_start_index : answer_end_index + 1]\n",
    "\n",
    "print(tokenizer.decode(predict_answer_tokens))"
   ]
  }
 ],
 "metadata": {
  "language_info": {
   "name": "python"
  }
 },
 "nbformat": 4,
 "nbformat_minor": 2
}
